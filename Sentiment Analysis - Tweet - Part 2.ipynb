{
 "cells": [
  {
   "cell_type": "markdown",
   "metadata": {},
   "source": [
    "## ML Model for Sentiment Analysis of tweets (Elon Mush) - Part 2\n",
    "\n",
    " - prepared by Nixon Chan"
   ]
  },
  {
   "cell_type": "markdown",
   "metadata": {},
   "source": [
    "<b>*The following code are built on DataBrick and now converted to .ipynb format for displaying on GitHub. Therefore, those code will not work under Jupyter notebook.\n",
    "    \n",
    "<p>Due to restriction on Databrick, the original .dbc file cannot be converted into 1 .ipynb file. So, it was separated into 3 parts. </b>"
   ]
  },
  {
   "cell_type": "markdown",
   "metadata": {
    "application/vnd.databricks.v1+cell": {
     "cellMetadata": {},
     "inputWidgets": {},
     "nuid": "17f2f617-0cb1-4042-abcb-7c5e0307e7cb",
     "showTitle": false,
     "title": ""
    }
   },
   "source": [
    "### Feature Engineer and Model Pipeline"
   ]
  },
  {
   "cell_type": "markdown",
   "metadata": {
    "application/vnd.databricks.v1+cell": {
     "cellMetadata": {},
     "inputWidgets": {},
     "nuid": "643558e5-c681-48e2-9935-a4113d8eb3b0",
     "showTitle": false,
     "title": ""
    }
   },
   "source": [
    "#### LogisticRegression"
   ]
  },
  {
   "cell_type": "code",
   "execution_count": null,
   "metadata": {},
   "outputs": [],
   "source": [
    "# Process the tweets with Tokenizer, StopWordsRemover, Custom Stop Word Remover, WordNetLemmatizer, PorterStemmer, CountVectorizer, IDF, NGRAM to create feature and use ChiSqSelector for frequre selection. Finally, feed in the feature to LogisticRegression classifier for prediction.\n",
    "\n",
    "from pyspark.ml import Pipeline\n",
    "from pyspark.ml.feature import Tokenizer, StopWordsRemover, CountVectorizer, HashingTF, IDF, NGram, VectorAssembler, ChiSqSelector, StringIndexer\n",
    "from pyspark.sql.functions import udf\n",
    "from pyspark.sql.types import ArrayType, StringType\n",
    "from nltk.stem import WordNetLemmatizer, PorterStemmer\n",
    "from pyspark.ml.classification import LogisticRegression\n",
    "from pyspark.ml import Pipeline\n",
    "import nltk\n",
    "\n",
    "# Use 90% cases for training, 10% cases for testing\n",
    "train, test = tweets_clean.randomSplit([0.9, 0.1], seed=20200819)\n",
    "\n",
    "# Tokenizer\n",
    "tokenizer = Tokenizer(inputCol=\"tweet\", outputCol=\"tokens\")\n",
    "\n",
    "# StopWordsRemover\n",
    "stopword_remover = StopWordsRemover(inputCol=\"tokens\", outputCol=\"filtered\")\n",
    "\n",
    "# Pipeline\n",
    "pipeline = Pipeline(stages=[tokenizer, stopword_remover])\n",
    "\n",
    "# Fit the pipeline\n",
    "pipeline_model = pipeline.fit(train)\n",
    "tweets_filtered_train = pipeline_model.transform(train)\n",
    "tweets_filtered_test = pipeline_model.transform(test)\n",
    "\n",
    "# Additional words to remove if any\n",
    "custom_stopwords = [\"elon\", \"musk\", \"twitter\", \"rt\"]\n",
    "\n",
    "\n",
    "\n",
    "# Remove additional custom words\n",
    "for custom_stopword in custom_stopwords:\n",
    "    tweets_filtered_train = tweets_filtered_train.withColumn(\n",
    "        'filtered', \n",
    "        F.expr(f\"transform(filtered, element -> regexp_replace(element, '(?i){custom_stopword}', ''))\")\n",
    "    )\n",
    "    tweets_filtered_test = tweets_filtered_test.withColumn(\n",
    "        'filtered', \n",
    "        F.expr(f\"transform(filtered, element -> regexp_replace(element, '(?i){custom_stopword}', ''))\")\n",
    "    )\n",
    "\n",
    "# Filter out empty strings\n",
    "tweets_filtered_train = tweets_filtered_train.withColumn('filtered', F.expr(\"filter(filtered, element -> element != '')\"))\n",
    "tweets_filtered_test = tweets_filtered_test.withColumn('filtered', F.expr(\"filter(filtered, element -> element != '')\"))\n",
    "\n",
    "\n",
    "# Lemmatization\n",
    "nltk.download('wordnet')\n",
    "lemmatizer = WordNetLemmatizer()\n",
    "\n",
    "# Define a UDF for lemmatization\n",
    "@udf(ArrayType(StringType()))\n",
    "def lemmatize_udf(tokens):\n",
    "    return [lemmatizer.lemmatize(token) for token in tokens]\n",
    "\n",
    "# Apply lemmatization\n",
    "tweets_lemmatized_train = tweets_filtered_train.withColumn(\"lemmatized\", lemmatize_udf(\"filtered\"))\n",
    "tweets_lemmatized_test = tweets_filtered_test.withColumn(\"lemmatized\", lemmatize_udf(\"filtered\"))\n",
    "\n",
    "\n",
    "# Stemming\n",
    "stemmer = PorterStemmer()\n",
    "\n",
    "# Define a UDF for stemming\n",
    "@udf(ArrayType(StringType()))\n",
    "def stem_udf(tokens):\n",
    "    return [stemmer.stem(token) for token in tokens]\n",
    "\n",
    "# Apply stemming\n",
    "tweets_stemmed_train = tweets_lemmatized_train.withColumn(\"stemmed\", stem_udf(\"lemmatized\"))\n",
    "tweets_stemmed_test = tweets_lemmatized_test.withColumn(\"stemmed\", stem_udf(\"lemmatized\"))\n",
    "\n",
    "\n",
    "cv = CountVectorizer(vocabSize=2**16, inputCol=\"stemmed\", outputCol='cv')\n",
    "idf = IDF(inputCol='cv', outputCol=\"1gram_idf\", minDocFreq=5) #minDocFreq: remove sparse terms\n",
    "ngram = NGram(n=2, inputCol=\"filtered\", outputCol=\"2gram\")\n",
    "ngram_hashingtf = HashingTF(inputCol=\"2gram\", outputCol=\"2gram_tf\", numFeatures=20000)\n",
    "ngram_idf = IDF(inputCol='2gram_tf', outputCol=\"2gram_idf\", minDocFreq=5) \n",
    "\n",
    "# Assemble all text features\n",
    "assembler = VectorAssembler(inputCols=[\"1gram_idf\", \"2gram_tf\"], outputCol=\"rawFeatures\")\n",
    "\n",
    "# Chi-square variable selection\n",
    "selector = ChiSqSelector(numTopFeatures=2**14,featuresCol='rawFeatures', outputCol=\"features\")\n",
    "\n",
    "#string_indexer\n",
    "string_indexer = StringIndexer(inputCol=\"label\", outputCol=\"indexed_label\")\n",
    "\n",
    "# Regression model estimator\n",
    "lr = LogisticRegression(maxIter=100, labelCol=\"indexed_label\", family=\"multinomial\")\n",
    "\n",
    "# Build the pipeline\n",
    "pipeline = Pipeline(stages=[cv, idf, ngram, ngram_hashingtf, ngram_idf, assembler, selector, string_indexer, lr])\n",
    "\n",
    "# Pipeline model fitting\n",
    "pipeline_model = pipeline.fit(tweets_stemmed_train)\n",
    "pipeline_model.transform(tweets_stemmed_train)\n",
    "predictions = pipeline_model.transform(tweets_stemmed_test)\n",
    "\n",
    "# Display the result\n",
    "display(predictions)"
   ]
  },
  {
   "cell_type": "code",
   "execution_count": 0,
   "metadata": {
    "application/vnd.databricks.v1+cell": {
     "cellMetadata": {
      "byteLimit": 2048000,
      "rowLimit": 10000
     },
     "inputWidgets": {},
     "nuid": "3bff4c31-956c-4224-b957-d42d097ac284",
     "showTitle": false,
     "title": ""
    }
   },
   "outputs": [
    {
     "name": "stdout",
     "output_type": "stream",
     "text": [
      "Accuracy Score: 0.7536\n",
      "              precision    recall  f1-score   support\n",
      "\n",
      "         0.0       0.82      0.78      0.80      4040\n",
      "         1.0       0.74      0.76      0.75      3093\n",
      "         2.0       0.63      0.68      0.65      1665\n",
      "\n",
      "    accuracy                           0.75      8798\n",
      "   macro avg       0.73      0.74      0.73      8798\n",
      "weighted avg       0.76      0.75      0.75      8798\n",
      "\n"
     ]
    },
    {
     "data": {
      "image/png": "[encoded data removed]"
     },
     "metadata": {
      "application/vnd.databricks.v1+output": {
       "addedWidgets": {},
       "arguments": {},
       "data": "data:image/png;base64,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\n",
       "datasetInfos": [],
       "metadata": {},
       "removedWidgets": [],
       "type": "image"
      }
     },
     "output_type": "display_data"
    }
   ],
   "source": [
    "# Based on the predication from LogisticRegression, evaluate the performance of the model using accuracy, classification report and confusion matrix\n",
    "from pyspark.ml.evaluation import MulticlassClassificationEvaluator, BinaryClassificationEvaluator\n",
    "import matplotlib.pyplot as plt\n",
    "import seaborn as sns\n",
    "import numpy as np \n",
    "\n",
    "# MulticlassClassificationEvaluator for multiclass classification metrics\n",
    "evaluator = MulticlassClassificationEvaluator(metricName=\"accuracy\", labelCol=\"indexed_label\")\n",
    "\n",
    "# Calculate Accuracy\n",
    "accuracy = evaluator.evaluate(predictions)\n",
    "\n",
    "# Print the evaluation metric (accuracy)\n",
    "print(\"Accuracy Score: {0:.4f}\".format(accuracy))\n",
    "\n",
    "# Convert to Pandas DataFrame\n",
    "lr_predictions_pd = predictions.select(\"indexed_label\", \"prediction\").toPandas()\n",
    "\n",
    "# Print out classification report\n",
    "from sklearn.metrics import classification_report\n",
    "print(classification_report(lr_predictions_pd['indexed_label'], lr_predictions_pd['prediction']))\n",
    "\n",
    "# Plot the confusion matrix as a heatmap\n",
    "from sklearn.metrics import confusion_matrix\n",
    "conf_matrix = confusion_matrix(lr_predictions_pd['indexed_label'], lr_predictions_pd['prediction'])\n",
    "\n",
    "plt.figure(figsize=(8, 6))\n",
    "sns.heatmap(conf_matrix, annot=True, fmt='d', cmap='Blues', cbar=False,\n",
    "            xticklabels=np.unique(lr_predictions_pd['prediction']), yticklabels=np.unique(lr_predictions_pd['prediction']))\n",
    "plt.xlabel('Predicted')\n",
    "plt.ylabel('Actual')\n",
    "plt.title('Confusion Matrix')\n",
    "plt.show()\n",
    "\n"
   ]
  },
  {
   "cell_type": "markdown",
   "metadata": {
    "application/vnd.databricks.v1+cell": {
     "cellMetadata": {},
     "inputWidgets": {},
     "nuid": "e6e940a3-70f5-43a0-a74d-674396f98328",
     "showTitle": false,
     "title": ""
    }
   },
   "source": [
    "Accuracy Score (Overall Accuracy):\n",
    "\n",
    "75.36%: The percentage of correctly predicted instances out of the total instances.\n",
    "Precision, Recall, and F1-score for Each Sentiment Class:\n",
    "\n",
    "Class 0 (Neutral):\n",
    "\n",
    "- Precision (82%): The percentage of correctly predicted neutral tweets out of all predicted neutral tweets. Precision measures accuracy among the predicted positive instances.\n",
    "- Recall (78%): The percentage of correctly predicted neutral tweets out of all actual neutral tweets. Recall measures how well the model captures instances of the positive class.\n",
    "- F1-score (80%): The harmonic mean of precision and recall. It provides a balance between precision and recall.\n",
    "\n",
    "Class 1 (Positive):\n",
    "- Precision (74%): The percentage of correctly predicted positive tweets out of all predicted positive tweets.\n",
    "- Recall (76%): The percentage of correctly predicted positive tweets out of all actual positive tweets.\n",
    "- F1-score (75%): The harmonic mean of precision and recall for the positive class.\n",
    "\n",
    "Class 2 (Negative):\n",
    "- Precision (63%): The percentage of correctly predicted negative tweets out of all predicted negative tweets.\n",
    "- Recall (68%): The percentage of correctly predicted negative tweets out of all actual negative tweets.\n",
    "- F1-score (65%): The harmonic mean of precision and recall for the negative class."
   ]
  }
 ],
 "metadata": {
  "application/vnd.databricks.v1+notebook": {
   "dashboards": [],
   "language": "python",
   "notebookMetadata": {
    "mostRecentlyExecutedCommandWithImplicitDF": {
     "commandId": 4320732745726438,
     "dataframes": [
      "_sqldf"
     ]
    },
    "pythonIndentUnit": 4
   },
   "notebookName": "Sentiment Analysis - Tweet3 - Part 2",
   "widgets": {}
  },
  "kernelspec": {
   "display_name": "Python 3 (ipykernel)",
   "language": "python",
   "name": "python3"
  },
  "language_info": {
   "codemirror_mode": {
    "name": "ipython",
    "version": 3
   },
   "file_extension": ".py",
   "mimetype": "text/x-python",
   "name": "python",
   "nbconvert_exporter": "python",
   "pygments_lexer": "ipython3",
   "version": "3.11.5"
  }
 },
 "nbformat": 4,
 "nbformat_minor": 1
}
